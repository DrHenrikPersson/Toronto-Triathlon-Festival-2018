{
 "cells": [
  {
   "cell_type": "markdown",
   "metadata": {},
   "source": [
    "# Toronto triathlon festival - 2018 #\n",
    "- Summarize results for Toronto triathlon festival, 2018-07-22\n",
    "- Dataset from [Sportstats](https://www.sportstats.ca/display-results.xhtml?raceid=93927&status=results)\n",
    "- Copied to tab-delimited format, file *results.txt* in [this repository](https://github.com/yiradati/Toronto-Triathlon-Festival-2018/)",
    "- Code by u/yiradati\n",
    "\n"
   ]
  },
  {
   "cell_type": "markdown",
   "metadata": {},
   "source": [
    "** import libraries **"
   ]
  },
  {
   "cell_type": "code",
   "execution_count": 1,
   "metadata": {},
   "outputs": [],
   "source": [
    "#import\n",
    "import csv\n",
    "import matplotlib.pyplot as plt\n",
    "import numpy as np"
   ]
  },
  {
   "cell_type": "markdown",
   "metadata": {},
   "source": [
    "** Read data **\n",
    "- input data saved as *results.txt* in local folder"
   ]
  },
  {
   "cell_type": "code",
   "execution_count": 2,
   "metadata": {},
   "outputs": [],
   "source": [
    "#read data\n",
    "file_in='results.txt'\n",
    "input_stream=open(file_in)\n",
    "reader=csv.reader(input_stream, delimiter='\\t')\n",
    "data=[]\n",
    "headers=reader.next()\n",
    "for row in reader:\n",
    "    data.append(row)\n",
    "input_stream.close()    "
   ]
  },
  {
   "cell_type": "markdown",
   "metadata": {},
   "source": [
    "** Helper functions **\n",
    "- get_hours(time_string)\n",
    "    - input: string\n",
    "    - output: hours (int)\n",
    "- get_minutes(time_string)\n",
    "    - input: string\n",
    "    - output: minutes (int)\n",
    "- get_seconds(time_string)\n",
    "    - input: string\n",
    "    - output: seconds (float)\n",
    "- get_time_as_min(time_string)\n",
    "    - input: string\n",
    "    - output: total number of minutes in entire string (float)\n",
    "- get_gender(class_string)\n",
    "    - input: string\n",
    "    - output: gender as string"
   ]
  },
  {
   "cell_type": "code",
   "execution_count": 3,
   "metadata": {},
   "outputs": [],
   "source": [
    "#return number of hours in time string\n",
    "def get_hours(time_in):\n",
    "    hours=int(time_in[0:2])\n",
    "    return hours"
   ]
  },
  {
   "cell_type": "code",
   "execution_count": 4,
   "metadata": {},
   "outputs": [],
   "source": [
    "#return number of minutes in time string\n",
    "def get_minutes(time_in):\n",
    "    minutes=int(time_in[3:5])\n",
    "    return minutes"
   ]
  },
  {
   "cell_type": "code",
   "execution_count": 5,
   "metadata": {},
   "outputs": [],
   "source": [
    "#return number of seconds in time string\n",
    "def get_seconds(time_in):\n",
    "    seconds=float(time_in[6:len(time_in)])\n",
    "    return seconds"
   ]
  },
  {
   "cell_type": "code",
   "execution_count": 6,
   "metadata": {},
   "outputs": [],
   "source": [
    "#return total time in entire string, converted to minutes\n",
    "def get_time_as_min(time_in):\n",
    "    time_in_min=60*get_hours(time_in)+get_minutes(time_in)+get_seconds(time_in)/60\n",
    "    return time_in_min"
   ]
  },
  {
   "cell_type": "code",
   "execution_count": 7,
   "metadata": {},
   "outputs": [],
   "source": [
    "#return gender label\n",
    "def get_gender(class_in):\n",
    "    return class_in[0]"
   ]
  },
  {
   "cell_type": "markdown",
   "metadata": {},
   "source": [
    "** Plot **\n",
    "- loop over defined columns\n",
    "    - create and normalize histogram\n",
    "    - plot histogram, mirrored and with shaded center\n",
    "    - save figure in local folder"
   ]
  },
  {
   "cell_type": "code",
   "execution_count": 9,
   "metadata": {},
   "outputs": [
    {
     "name": "stdout",
     "output_type": "stream",
     "text": [
      "117 of 427 entries lack a time for the category Swim, 1.5k\n",
      "124 of 427 entries lack a time for the category Bike, 40k\n",
      "129 of 427 entries lack a time for the category Run, 10k\n",
      "131 of 427 entries lack a time for the category Finish time\n"
     ]
    }
   ],
   "source": [
    "#columns to plot\n",
    "columns=[6,7,8,9]\n",
    "plot_titles=['Swim, 1.5k','Bike, 40k','Run, 10k','Finish time']\n",
    "\n",
    "#colour settings\n",
    "#TTF colors sampled from logo using imageJ. \n",
    "#A few slightly different color values depending on which logo used.\n",
    "darken=0.5\n",
    "Ttf_blue=(158/255.0,216/255.0,236/255.0)\n",
    "Ttf_blue_dark=(darken*158/255.0,216/255.0,236/255.0)\n",
    "Ttf_red=(225/255.0,3/255.0,24/255.0)\n",
    "Ttf_red_dark=(darken*225/255.0,darken*3/255.0,darken*24/255.0)\n",
    "\n",
    "#plot data for each specified column, save fig.\n",
    "for col_ind in range(len(columns)):\n",
    "    #summarize data for specified column\n",
    "    col=columns[col_ind]\n",
    "    total_time_men=[]\n",
    "    total_time_women=[]\n",
    "\n",
    "    no_total_time=0#count how many entries are lacking total time\n",
    "    for ind in range(len(data)):\n",
    "        if get_gender(data[ind][2])=='M':\n",
    "            try:\n",
    "                total_time_men.append(get_time_as_min(data[ind][col]))\n",
    "            except:\n",
    "                no_total_time +=1\n",
    "        elif get_gender(data[ind][2])=='F':\n",
    "            try:\n",
    "                total_time_women.append(get_time_as_min(data[ind][col]))\n",
    "            except:\n",
    "                no_total_time+=1\n",
    "\n",
    "    #bad data\n",
    "    print str(no_total_time) + ' of '+str(len(data))+' entries lack a time for the category ' + plot_titles[col_ind]\n",
    "\n",
    "    #calcualte histograms\n",
    "    bins = np.linspace(0, 300, 50)#bins for histogram\n",
    "    bin_n_men, bin_edges_men=np.histogram(total_time_men,bins)\n",
    "    bin_n_women, bin_edges_women=np.histogram(total_time_women,bins)\n",
    "\n",
    "    #determine bin centers (numpy.histogram gives edges)\n",
    "    bin_centers_men=[]\n",
    "    bin_centers_women=[]\n",
    "    for ind in range(len(bin_edges_men)-1):\n",
    "        bin_centers_men.append((bin_edges_men[ind]+bin_edges_men[ind+1])/2.0)\n",
    "        bin_centers_women.append((bin_edges_women[ind]+bin_edges_women[ind+1])/2.0)\n",
    "    \n",
    "    #normalize histograms\n",
    "    bin_n_men_norm=np.divide(bin_n_men,float(np.max(bin_n_men)))\n",
    "    bin_n_women_norm=np.divide(bin_n_women,float(np.max(bin_n_women)))\n",
    "    \n",
    "    #plot\n",
    "    plt.figure(\"TTF results 2018\", figsize=(16,8),facecolor='k')\n",
    "    shift=-4\n",
    "    #plot lines\n",
    "    #only label single instance for each gender\n",
    "    plt.plot(bin_centers_men, bin_n_men_norm,color=Ttf_blue, linewidth=3,label='Men')\n",
    "    plt.plot(bin_centers_women,shift+ bin_n_women_norm,color=Ttf_red, linewidth=3,label='Women')\n",
    "    plt.plot(bin_centers_men, -bin_n_men_norm,color=Ttf_blue, linewidth=3)\n",
    "    plt.plot(bin_centers_women, shift-bin_n_women_norm,color=Ttf_red, linewidth=3,)\n",
    "    \n",
    "    #fill space between lines with darker color\n",
    "    plt.fill(bin_centers_men, -bin_n_men_norm,color=Ttf_blue_dark)\n",
    "    plt.fill(bin_centers_men, bin_n_men_norm,color=Ttf_blue_dark)\n",
    "    plt.fill(bin_centers_women, shift-bin_n_women_norm,color=Ttf_red_dark)\n",
    "    plt.fill(bin_centers_women, shift+bin_n_women_norm,color=Ttf_red_dark)\n",
    "\n",
    "    #uniform limits across all figures\n",
    "    plt.xlim([0,300])\n",
    "    plt.ylim([-6,2])\n",
    "\n",
    "    #axis colors\n",
    "    ax=plt.gca()\n",
    "    ax.patch.set_facecolor('k')\n",
    "    ax.spines['bottom'].set_color('w')\n",
    "    ax.spines['top'].set_color('k') \n",
    "    ax.spines['right'].set_color('k')\n",
    "    ax.spines['left'].set_color('k')\n",
    "    ax.xaxis.set_ticks_position('bottom')\n",
    "    ax.tick_params(axis='x', colors='w')\n",
    "\n",
    "    #labels\n",
    "    plt.xlabel('Total time [minutes]', color='w', fontsize=18)\n",
    "    plt.title(plot_titles[col_ind],color='w', fontsize=28)\n",
    "    plt.legend(loc='best')\n",
    "    #update legend text color\n",
    "    l_text=ax.legend().get_texts()\n",
    "    l_text[0].set_color(Ttf_blue)\n",
    "    l_text[1].set_color(Ttf_red)\n",
    "    #remove legend box\n",
    "    ax.get_legend().get_frame().set_facecolor('none')\n",
    "\n",
    "    #save figure\n",
    "    plt.savefig('TTF 2018_'+str(col_ind),facecolor='k')\n",
    "    plt.close()"
   ]
  },
  {
   "cell_type": "code",
   "execution_count": null,
   "metadata": {},
   "outputs": [],
   "source": []
  },
  {
   "cell_type": "code",
   "execution_count": null,
   "metadata": {},
   "outputs": [],
   "source": []
  }
 ],
 "metadata": {
  "kernelspec": {
   "display_name": "Python 2",
   "language": "python",
   "name": "python2"
  },
  "language_info": {
   "codemirror_mode": {
    "name": "ipython",
    "version": 2
   },
   "file_extension": ".py",
   "mimetype": "text/x-python",
   "name": "python",
   "nbconvert_exporter": "python",
   "pygments_lexer": "ipython2",
   "version": "2.7.10"
  },
  "varInspector": {
   "cols": {
    "lenName": 16,
    "lenType": 16,
    "lenVar": 40
   },
   "kernels_config": {
    "python": {
     "delete_cmd_postfix": "",
     "delete_cmd_prefix": "del ",
     "library": "var_list.py",
     "varRefreshCmd": "print(var_dic_list())"
    },
    "r": {
     "delete_cmd_postfix": ") ",
     "delete_cmd_prefix": "rm(",
     "library": "var_list.r",
     "varRefreshCmd": "cat(var_dic_list()) "
    }
   },
   "types_to_exclude": [
    "module",
    "function",
    "builtin_function_or_method",
    "instance",
    "_Feature"
   ],
   "window_display": false
  }
 },
 "nbformat": 4,
 "nbformat_minor": 2
}
